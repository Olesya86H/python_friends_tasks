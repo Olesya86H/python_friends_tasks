{
 "cells": [
  {
   "cell_type": "code",
   "execution_count": null,
   "metadata": {
    "colab": {
     "base_uri": "https://localhost:8080/"
    },
    "id": "o--h4S9CBOwm",
    "outputId": "fabe92e1-b0b4-4d4a-f3fe-0f9f8b549548"
   },
   "outputs": [
    {
     "name": "stdout",
     "output_type": "stream",
     "text": [
      "8\n"
     ]
    }
   ],
   "source": [
    "radius = input()"
   ]
  },
  {
   "cell_type": "code",
   "execution_count": null,
   "metadata": {
    "colab": {
     "base_uri": "https://localhost:8080/"
    },
    "id": "vPSO80R9Vx0h",
    "outputId": "2bf3df74-2930-42d3-cfcf-88eb41393a7e"
   },
   "outputs": [
    {
     "name": "stdout",
     "output_type": "stream",
     "text": [
      "50.27\n"
     ]
    }
   ],
   "source": [
    "import math\n",
    "l = round(float(radius)*2*math.pi,2)\n",
    "print(l)"
   ]
  },
  {
   "cell_type": "code",
   "execution_count": null,
   "metadata": {
    "colab": {
     "base_uri": "https://localhost:8080/"
    },
    "id": "QbKRk_wKWvic",
    "outputId": "c0b075f0-1dcb-4d79-bed7-6f3a7ca7e471"
   },
   "outputs": [
    {
     "name": "stdout",
     "output_type": "stream",
     "text": [
      "201.06\n"
     ]
    }
   ],
   "source": [
    "S=round(float(radius)**2*math.pi,2)\n",
    "print(S)"
   ]
  },
  {
   "cell_type": "code",
   "execution_count": null,
   "metadata": {
    "colab": {
     "base_uri": "https://localhost:8080/"
    },
    "id": "r0RWXvySXS3K",
    "outputId": "34753439-0527-4faf-b8c3-a5be49080e4f"
   },
   "outputs": [
    {
     "name": "stdout",
     "output_type": "stream",
     "text": [
      "    *    \n",
      "   ***   \n",
      "  *****  \n",
      " ******* \n",
      "*********\n",
      " ******* \n",
      "  *****  \n",
      "   ***   \n",
      "    *    \n"
     ]
    }
   ],
   "source": [
    "print('    *    ')\n",
    "print('   ***   ')\n",
    "print('  *****  ')\n",
    "print(' ******* ')\n",
    "print('*********')\n",
    "print(' ******* ')\n",
    "print('  *****  ')\n",
    "print('   ***   ')\n",
    "print('    *    ')"
   ]
  },
  {
   "cell_type": "code",
   "execution_count": 1,
   "metadata": {
    "colab": {
     "base_uri": "https://localhost:8080/"
    },
    "id": "aa17c6fa",
    "outputId": "701de5f3-c008-4af7-fbf1-7885440e3139"
   },
   "outputs": [
    {
     "name": "stdout",
     "output_type": "stream",
     "text": [
      "123321\n"
     ]
    }
   ],
   "source": [
    "str = input() #ожидаем ввод числа от пользователя с клавиатуры"
   ]
  },
  {
   "cell_type": "code",
   "execution_count": null,
   "metadata": {
    "id": "697ec1ae"
   },
   "outputs": [],
   "source": [
    "strarray = [] #объявляем массив, он будет содержать строковые значения"
   ]
  },
  {
   "cell_type": "code",
   "execution_count": null,
   "metadata": {
    "id": "69062b77"
   },
   "outputs": [],
   "source": [
    "for a in str: #для каждого символа в веденной строке формируем элемент массива\n",
    "    strarray += a"
   ]
  },
  {
   "cell_type": "code",
   "execution_count": null,
   "metadata": {
    "id": "3bc43f88"
   },
   "outputs": [],
   "source": [
    "intarray = [int(item) for item in strarray] #преобразуем строковый массив strarray в целочисленный массив intarray"
   ]
  },
  {
   "cell_type": "code",
   "execution_count": null,
   "metadata": {
    "id": "af9fc746",
    "outputId": "fdf88bac-3d97-4b38-d590-453f7630c8fa"
   },
   "outputs": [
    {
     "name": "stdout",
     "output_type": "stream",
     "text": [
      "[1, 2, 3, 3, 2, 1]\n"
     ]
    }
   ],
   "source": [
    "print(intarray) #проверка - вывод на экран содержимого массива с целыми числами"
   ]
  },
  {
   "cell_type": "code",
   "execution_count": null,
   "metadata": {
    "id": "f3bf05be",
    "outputId": "422c2dbb-653f-4fd9-c63e-2ef0b2c7df49"
   },
   "outputs": [
    {
     "name": "stdout",
     "output_type": "stream",
     "text": [
      "Счастливое\n"
     ]
    }
   ],
   "source": [
    "first_num = 0 #объявляем переменную first_num - в ней будет храниться сумма первых трёх цифр\n",
    "second_num = 0 #объявляем переменную second_num - в ней будет храниться сумма последних трёх цифр\n",
    "i = 0 #i - это счётчик, или переменная, которая будет показывать номер текущей итерации цикла или, другими словами, порядковый номер элемента массива, который мы будем прибавлять либо к первому, либо ко второму числу\n",
    "while i <= len(intarray) - 1: #пока порядковый номер элемента массива intarray (нумерация с нуля) не достиг значения, равного количеству элементов в массиве минус 1\n",
    "    if i <= 2: #т.е. для элементов массива на позициях 0,1,2.\n",
    "        first_num += intarray[i] #прибавляем к первому числу элемент массива на позициях 0,1,2 (intarray[0], intarray[1], intarray[2])\n",
    "    else: #иначе, т.е. когда позиция в массиве - четвёртый элемент массива (для элементов массива на позициях 3,4,5.\n",
    "        second_num += intarray[i] #прибавляем ко второму числу элемент массива на позициях 3,4,5 (intarray[3], intarray[4], intarray[5])\n",
    "    i += 1 #после того, как прибавили элемент массива к первому или второму числу - увеличиваем счётчик i на 1, т.е. переходим к следующей позиции в массиве (другими словами, переходим к следующей итерации цикла)\n",
    "if first_num == second_num: #на эту строку кода программа попадает, когда весь массив разложили: собрали первое и второе число, теперь их сравниваем\n",
    "    print('Счастливое') #если первое число равно второму числу - то изначально введенное пользователем число считается \"Счастливым\"\n",
    "else: #иначе\n",
    "    print('Несчастливое') ##если первое число неравно второму числу - то изначально введенное пользователем число считается \"Несчастливым\"\n"
   ]
  }
 ],
 "metadata": {
  "colab": {
   "provenance": []
  },
  "kernelspec": {
   "display_name": "Python 3 (ipykernel)",
   "language": "python",
   "name": "python3"
  },
  "language_info": {
   "codemirror_mode": {
    "name": "ipython",
    "version": 3
   },
   "file_extension": ".py",
   "mimetype": "text/x-python",
   "name": "python",
   "nbconvert_exporter": "python",
   "pygments_lexer": "ipython3",
   "version": "3.11.0"
  }
 },
 "nbformat": 4,
 "nbformat_minor": 1
}
