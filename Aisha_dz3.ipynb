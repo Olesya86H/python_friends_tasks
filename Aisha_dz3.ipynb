{
 "cells": [
  {
   "cell_type": "markdown",
   "id": "2ac6fa5b",
   "metadata": {},
   "source": [
    "1.Дана длина ребра куба. Найти объем куба и площадь его боковой поверхности."
   ]
  },
  {
   "cell_type": "code",
   "execution_count": 19,
   "id": "6662c744",
   "metadata": {},
   "outputs": [
    {
     "name": "stdout",
     "output_type": "stream",
     "text": [
      "2.8\n"
     ]
    }
   ],
   "source": [
    "a = float(input()) #вводим длину ребра куба"
   ]
  },
  {
   "cell_type": "code",
   "execution_count": 20,
   "id": "a1ec699b",
   "metadata": {},
   "outputs": [
    {
     "name": "stdout",
     "output_type": "stream",
     "text": [
      "Объём куба:  21.951999999999995\n"
     ]
    }
   ],
   "source": [
    "v=a**3 #формула объема куба\n",
    "print('Объём куба: ', v)"
   ]
  },
  {
   "cell_type": "code",
   "execution_count": 21,
   "id": "28579acd",
   "metadata": {},
   "outputs": [
    {
     "name": "stdout",
     "output_type": "stream",
     "text": [
      "Площадь боковой поверхности:  31.359999999999996\n"
     ]
    }
   ],
   "source": [
    "s=4*a**2 #формула площади боковой поверхности куба\n",
    "print('Площадь боковой поверхности: ', s)"
   ]
  },
  {
   "cell_type": "markdown",
   "id": "f9c97124",
   "metadata": {},
   "source": [
    "2.\tС некоторого момента прошло 137 дня. Сколько полных недель прошло за этот период?"
   ]
  },
  {
   "cell_type": "code",
   "execution_count": 22,
   "id": "0f7069b5",
   "metadata": {},
   "outputs": [
    {
     "name": "stdout",
     "output_type": "stream",
     "text": [
      "За этот период прошло 19 полных недель\n"
     ]
    }
   ],
   "source": [
    "t = 137//7 #кол-во полных недель\n",
    "print('За этот период прошло {f} полных недель'.format(f=t))"
   ]
  },
  {
   "cell_type": "markdown",
   "id": "70b4a25e",
   "metadata": {},
   "source": [
    "3. Даны вещественные числа a,b,c. Выяснить, имеет ли квадратное уравнение ax^2+bx+c = 0 вещественные корни."
   ]
  },
  {
   "cell_type": "code",
   "execution_count": 23,
   "id": "73aae15c",
   "metadata": {},
   "outputs": [
    {
     "name": "stdout",
     "output_type": "stream",
     "text": [
      "2.4\n"
     ]
    }
   ],
   "source": [
    "#квадратное уравнение будет иметь вещественные корни, если дискриминант >= 0, найдем дискриминант и сравним полученное его значение с нулём:\n",
    "#1. вводим значения a,b,c:\n",
    "a = float(input())"
   ]
  },
  {
   "cell_type": "code",
   "execution_count": 24,
   "id": "c7bbd954",
   "metadata": {},
   "outputs": [
    {
     "name": "stdout",
     "output_type": "stream",
     "text": [
      "3.5\n"
     ]
    }
   ],
   "source": [
    "b = float(input())"
   ]
  },
  {
   "cell_type": "code",
   "execution_count": 25,
   "id": "58523b69",
   "metadata": {},
   "outputs": [
    {
     "name": "stdout",
     "output_type": "stream",
     "text": [
      "5.7\n"
     ]
    }
   ],
   "source": [
    "c = float(input())"
   ]
  },
  {
   "cell_type": "code",
   "execution_count": 26,
   "id": "f4e8e61a",
   "metadata": {},
   "outputs": [
    {
     "name": "stdout",
     "output_type": "stream",
     "text": [
      "Квадратное уравнение не имеет вещественных корней\n"
     ]
    }
   ],
   "source": [
    "#2. Вычисляем дискриминант:\n",
    "D = b**2 - 4*a*c\n",
    "if D > 0:\n",
    "    print('Квадратное уравнение имеет 2 вещественных корня')\n",
    "elif D == 0:\n",
    "    print('Квадратное уравнение имеет 1 корень')\n",
    "else:\n",
    "    print('Квадратное уравнение не имеет вещественных корней')"
   ]
  },
  {
   "cell_type": "markdown",
   "id": "ccfd6bc2",
   "metadata": {},
   "source": [
    "4. Одна компьютерная мышь некоторого товара стоит 453 руб. Напечатать таблицу стоимости 2, 3, ..., 20 штук этого товара."
   ]
  },
  {
   "cell_type": "code",
   "execution_count": 27,
   "id": "1a794f6e",
   "metadata": {},
   "outputs": [
    {
     "data": {
      "text/html": [
       "<div>\n",
       "<style scoped>\n",
       "    .dataframe tbody tr th:only-of-type {\n",
       "        vertical-align: middle;\n",
       "    }\n",
       "\n",
       "    .dataframe tbody tr th {\n",
       "        vertical-align: top;\n",
       "    }\n",
       "\n",
       "    .dataframe thead th {\n",
       "        text-align: right;\n",
       "    }\n",
       "</style>\n",
       "<table border=\"1\" class=\"dataframe\">\n",
       "  <thead>\n",
       "    <tr style=\"text-align: right;\">\n",
       "      <th></th>\n",
       "      <th>кол-во</th>\n",
       "      <th>стоимость</th>\n",
       "    </tr>\n",
       "  </thead>\n",
       "  <tbody>\n",
       "    <tr>\n",
       "      <th>0</th>\n",
       "      <td>2</td>\n",
       "      <td>906</td>\n",
       "    </tr>\n",
       "    <tr>\n",
       "      <th>1</th>\n",
       "      <td>3</td>\n",
       "      <td>1359</td>\n",
       "    </tr>\n",
       "    <tr>\n",
       "      <th>2</th>\n",
       "      <td>4</td>\n",
       "      <td>1812</td>\n",
       "    </tr>\n",
       "    <tr>\n",
       "      <th>3</th>\n",
       "      <td>5</td>\n",
       "      <td>2265</td>\n",
       "    </tr>\n",
       "    <tr>\n",
       "      <th>4</th>\n",
       "      <td>6</td>\n",
       "      <td>2718</td>\n",
       "    </tr>\n",
       "    <tr>\n",
       "      <th>5</th>\n",
       "      <td>7</td>\n",
       "      <td>3171</td>\n",
       "    </tr>\n",
       "    <tr>\n",
       "      <th>6</th>\n",
       "      <td>8</td>\n",
       "      <td>3624</td>\n",
       "    </tr>\n",
       "    <tr>\n",
       "      <th>7</th>\n",
       "      <td>9</td>\n",
       "      <td>4077</td>\n",
       "    </tr>\n",
       "    <tr>\n",
       "      <th>8</th>\n",
       "      <td>10</td>\n",
       "      <td>4530</td>\n",
       "    </tr>\n",
       "    <tr>\n",
       "      <th>9</th>\n",
       "      <td>11</td>\n",
       "      <td>4983</td>\n",
       "    </tr>\n",
       "    <tr>\n",
       "      <th>10</th>\n",
       "      <td>12</td>\n",
       "      <td>5436</td>\n",
       "    </tr>\n",
       "    <tr>\n",
       "      <th>11</th>\n",
       "      <td>13</td>\n",
       "      <td>5889</td>\n",
       "    </tr>\n",
       "    <tr>\n",
       "      <th>12</th>\n",
       "      <td>14</td>\n",
       "      <td>6342</td>\n",
       "    </tr>\n",
       "    <tr>\n",
       "      <th>13</th>\n",
       "      <td>15</td>\n",
       "      <td>6795</td>\n",
       "    </tr>\n",
       "    <tr>\n",
       "      <th>14</th>\n",
       "      <td>16</td>\n",
       "      <td>7248</td>\n",
       "    </tr>\n",
       "    <tr>\n",
       "      <th>15</th>\n",
       "      <td>17</td>\n",
       "      <td>7701</td>\n",
       "    </tr>\n",
       "    <tr>\n",
       "      <th>16</th>\n",
       "      <td>18</td>\n",
       "      <td>8154</td>\n",
       "    </tr>\n",
       "    <tr>\n",
       "      <th>17</th>\n",
       "      <td>19</td>\n",
       "      <td>8607</td>\n",
       "    </tr>\n",
       "    <tr>\n",
       "      <th>18</th>\n",
       "      <td>20</td>\n",
       "      <td>9060</td>\n",
       "    </tr>\n",
       "  </tbody>\n",
       "</table>\n",
       "</div>"
      ],
      "text/plain": [
       "    кол-во  стоимость\n",
       "0        2        906\n",
       "1        3       1359\n",
       "2        4       1812\n",
       "3        5       2265\n",
       "4        6       2718\n",
       "5        7       3171\n",
       "6        8       3624\n",
       "7        9       4077\n",
       "8       10       4530\n",
       "9       11       4983\n",
       "10      12       5436\n",
       "11      13       5889\n",
       "12      14       6342\n",
       "13      15       6795\n",
       "14      16       7248\n",
       "15      17       7701\n",
       "16      18       8154\n",
       "17      19       8607\n",
       "18      20       9060"
      ]
     },
     "execution_count": 27,
     "metadata": {},
     "output_type": "execute_result"
    }
   ],
   "source": [
    "import pandas as pd\n",
    "import numpy as np\n",
    "a = 453\n",
    "i = 1\n",
    "ar1 = np.array(0)\n",
    "ar2 = np.array(0)\n",
    "while i <= 20:\n",
    "    ar1 = np.append(ar1, i) \n",
    "    ar2 = np.append(ar2, a*i)\n",
    "    i = i+1\n",
    "d = {'кол-во': ar1[2:], 'стоимость': ar2[2:]}\n",
    "df = pd.DataFrame(data=d)\n",
    "df"
   ]
  },
  {
   "cell_type": "markdown",
   "id": "0cbd1be2",
   "metadata": {},
   "source": [
    "5. Дано название волейбольного клуба. Напечатать его на экране \"столбиком\"."
   ]
  },
  {
   "cell_type": "code",
   "execution_count": 30,
   "id": "1783a8eb",
   "metadata": {},
   "outputs": [
    {
     "name": "stdout",
     "output_type": "stream",
     "text": [
      "voleyball_club\n"
     ]
    }
   ],
   "source": [
    "#вводим название волейбольного клуба:\n",
    "name = input()"
   ]
  },
  {
   "cell_type": "code",
   "execution_count": 31,
   "id": "747236ac",
   "metadata": {},
   "outputs": [
    {
     "data": {
      "text/html": [
       "<div>\n",
       "<style scoped>\n",
       "    .dataframe tbody tr th:only-of-type {\n",
       "        vertical-align: middle;\n",
       "    }\n",
       "\n",
       "    .dataframe tbody tr th {\n",
       "        vertical-align: top;\n",
       "    }\n",
       "\n",
       "    .dataframe thead th {\n",
       "        text-align: right;\n",
       "    }\n",
       "</style>\n",
       "<table border=\"1\" class=\"dataframe\">\n",
       "  <thead>\n",
       "    <tr style=\"text-align: right;\">\n",
       "      <th></th>\n",
       "      <th>Название волейбольного клуба</th>\n",
       "    </tr>\n",
       "  </thead>\n",
       "  <tbody>\n",
       "    <tr>\n",
       "      <th>0</th>\n",
       "      <td>v</td>\n",
       "    </tr>\n",
       "    <tr>\n",
       "      <th>1</th>\n",
       "      <td>o</td>\n",
       "    </tr>\n",
       "    <tr>\n",
       "      <th>2</th>\n",
       "      <td>l</td>\n",
       "    </tr>\n",
       "    <tr>\n",
       "      <th>3</th>\n",
       "      <td>e</td>\n",
       "    </tr>\n",
       "    <tr>\n",
       "      <th>4</th>\n",
       "      <td>y</td>\n",
       "    </tr>\n",
       "    <tr>\n",
       "      <th>5</th>\n",
       "      <td>b</td>\n",
       "    </tr>\n",
       "    <tr>\n",
       "      <th>6</th>\n",
       "      <td>a</td>\n",
       "    </tr>\n",
       "    <tr>\n",
       "      <th>7</th>\n",
       "      <td>l</td>\n",
       "    </tr>\n",
       "    <tr>\n",
       "      <th>8</th>\n",
       "      <td>l</td>\n",
       "    </tr>\n",
       "    <tr>\n",
       "      <th>9</th>\n",
       "      <td>_</td>\n",
       "    </tr>\n",
       "    <tr>\n",
       "      <th>10</th>\n",
       "      <td>c</td>\n",
       "    </tr>\n",
       "    <tr>\n",
       "      <th>11</th>\n",
       "      <td>l</td>\n",
       "    </tr>\n",
       "    <tr>\n",
       "      <th>12</th>\n",
       "      <td>u</td>\n",
       "    </tr>\n",
       "    <tr>\n",
       "      <th>13</th>\n",
       "      <td>b</td>\n",
       "    </tr>\n",
       "  </tbody>\n",
       "</table>\n",
       "</div>"
      ],
      "text/plain": [
       "   Название волейбольного клуба\n",
       "0                             v\n",
       "1                             o\n",
       "2                             l\n",
       "3                             e\n",
       "4                             y\n",
       "5                             b\n",
       "6                             a\n",
       "7                             l\n",
       "8                             l\n",
       "9                             _\n",
       "10                            c\n",
       "11                            l\n",
       "12                            u\n",
       "13                            b"
      ]
     },
     "execution_count": 31,
     "metadata": {},
     "output_type": "execute_result"
    }
   ],
   "source": [
    "list_char = []\n",
    "i = 0\n",
    "while i <= len(name)-1:\n",
    "    list_char.append(name[i])\n",
    "    i = i + 1\n",
    "d = {'Название волейбольного клуба': list_char}\n",
    "df = pd.DataFrame(data=d)\n",
    "df"
   ]
  },
  {
   "cell_type": "markdown",
   "id": "4debf4ee",
   "metadata": {},
   "source": [
    "6.Дан список: \n",
    "a.Все его элементы: увеличить в 2 раза. \n",
    "b.Составить программу расчета среднего арифметического двух любых элементов массива.\n"
   ]
  },
  {
   "cell_type": "code",
   "execution_count": 33,
   "id": "23b996f8",
   "metadata": {},
   "outputs": [
    {
     "name": "stdout",
     "output_type": "stream",
     "text": [
      "Введите элементы списка. После каждого элемента нажмите \"Enter\".\n",
      "Для прекращения процесса ввода напечатайте слово \"exit\", либо символ, неявляющийся числом\n",
      "3\n",
      "4\n",
      "5\n",
      "exit\n"
     ]
    },
    {
     "data": {
      "text/html": [
       "<div>\n",
       "<style scoped>\n",
       "    .dataframe tbody tr th:only-of-type {\n",
       "        vertical-align: middle;\n",
       "    }\n",
       "\n",
       "    .dataframe tbody tr th {\n",
       "        vertical-align: top;\n",
       "    }\n",
       "\n",
       "    .dataframe thead th {\n",
       "        text-align: right;\n",
       "    }\n",
       "</style>\n",
       "<table border=\"1\" class=\"dataframe\">\n",
       "  <thead>\n",
       "    <tr style=\"text-align: right;\">\n",
       "      <th></th>\n",
       "      <th>Список \"a\"</th>\n",
       "      <th>Список \"a\" с элементами, увеличенными в 2 раза</th>\n",
       "    </tr>\n",
       "  </thead>\n",
       "  <tbody>\n",
       "    <tr>\n",
       "      <th>0</th>\n",
       "      <td>3.0</td>\n",
       "      <td>6.0</td>\n",
       "    </tr>\n",
       "    <tr>\n",
       "      <th>1</th>\n",
       "      <td>4.0</td>\n",
       "      <td>8.0</td>\n",
       "    </tr>\n",
       "    <tr>\n",
       "      <th>2</th>\n",
       "      <td>5.0</td>\n",
       "      <td>10.0</td>\n",
       "    </tr>\n",
       "  </tbody>\n",
       "</table>\n",
       "</div>"
      ],
      "text/plain": [
       "   Список \"a\"  Список \"a\" с элементами, увеличенными в 2 раза\n",
       "0         3.0                                             6.0\n",
       "1         4.0                                             8.0\n",
       "2         5.0                                            10.0"
      ]
     },
     "execution_count": 33,
     "metadata": {},
     "output_type": "execute_result"
    }
   ],
   "source": [
    "#import numpy as np\n",
    "#import pandas as pd\n",
    "\n",
    "print('Введите элементы списка. После каждого элемента нажмите \"Enter\".')\n",
    "print('Для прекращения процесса ввода напечатайте слово \"exit\", либо символ, неявляющийся числом')\n",
    "\n",
    "list_float = []\n",
    "list_float2 = []\n",
    "str = ''\n",
    "while str != 'exit':\n",
    "    str = input()\n",
    "    try:\n",
    "        list_float.append(float(str))\n",
    "        list_float2.append(float(str)*2)\n",
    "    except:\n",
    "        break\n",
    "d = {'Список \"a\"': list_float, 'Список \"a\" с элементами, увеличенными в 2 раза': list_float2}\n",
    "df = pd.DataFrame(data=d)\n",
    "df"
   ]
  },
  {
   "cell_type": "code",
   "execution_count": 38,
   "id": "b553b683",
   "metadata": {},
   "outputs": [
    {
     "name": "stdout",
     "output_type": "stream",
     "text": [
      "Кол-во элементов в массиве: 3\n",
      "Введите номер первого элемента массива для вычисления среднего арифметического: \n",
      "3\n",
      "Введите номер следующего элемента массива для вычисления среднего арифметического: \n",
      "5\n",
      "Введенный номер элемента превышает кол-во элементов в массиве, будет использован первый элемент\n",
      "Среднее арифметическое = 4.0\n"
     ]
    }
   ],
   "source": [
    "array1 = list_float\n",
    "str = ''\n",
    "print('Кол-во элементов в массиве: {f}'.format(f = len(array1)))\n",
    "print('Введите номер первого элемента массива для вычисления среднего арифметического: ')\n",
    "try:\n",
    "    a_i = int(input())\n",
    "    if (a_i - 1) >= len(array1):\n",
    "        print('Введенный номер элемента превышает кол-во элементов в массиве, будет использован первый элемент')        \n",
    "        a_i = 1\n",
    "    elif (a_i - 1) < 0:\n",
    "        print('Введенный номер элемента не является номером элемента массива, будет использован первый элемент')        \n",
    "        a_i = 1 \n",
    "except:\n",
    "    a_i = 1\n",
    "    \n",
    "print('Введите номер следующего элемента массива для вычисления среднего арифметического: ')\n",
    "\n",
    "try:\n",
    "    b_i = int(input())\n",
    "    if (b_i - 1) >= len(array1):\n",
    "        print('Введенный номер элемента превышает кол-во элементов в массиве, будет использован первый элемент')        \n",
    "        b_i = 1\n",
    "    elif (b_i - 1) < 0:\n",
    "        print('Введенный номер элемента не является номером элемента массива, будет использован первый элемент')        \n",
    "        b_i = 1\n",
    "except:\n",
    "    b_i = 1\n",
    "avg = (array1[a_i - 1] + array1[b_i - 1])/2\n",
    "print('Среднее арифметическое = {f}'.format(f = avg))"
   ]
  }
 ],
 "metadata": {
  "kernelspec": {
   "display_name": "Python 3 (ipykernel)",
   "language": "python",
   "name": "python3"
  },
  "language_info": {
   "codemirror_mode": {
    "name": "ipython",
    "version": 3
   },
   "file_extension": ".py",
   "mimetype": "text/x-python",
   "name": "python",
   "nbconvert_exporter": "python",
   "pygments_lexer": "ipython3",
   "version": "3.11.0"
  }
 },
 "nbformat": 4,
 "nbformat_minor": 5
}
