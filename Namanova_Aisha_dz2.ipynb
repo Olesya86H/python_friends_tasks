{
 "cells": [
  {
   "cell_type": "markdown",
   "id": "6a2d7abf",
   "metadata": {},
   "source": [
    "Задание 1. Пользователь вводит название месяца. Напишите программу, которая определяет, к какому сезону года относится этот месяц (весна, лето, осень, зима) и выводит соответствующее сообщение"
   ]
  },
  {
   "cell_type": "code",
   "execution_count": 4,
   "id": "d403e374",
   "metadata": {},
   "outputs": [
    {
     "name": "stdout",
     "output_type": "stream",
     "text": [
      "Апрель\n"
     ]
    }
   ],
   "source": [
    "ls_month_inp = input()"
   ]
  },
  {
   "cell_type": "code",
   "execution_count": 7,
   "id": "62d6336a",
   "metadata": {},
   "outputs": [
    {
     "name": "stdout",
     "output_type": "stream",
     "text": [
      "Весна\n"
     ]
    }
   ],
   "source": [
    "if ls_month_inp in ('Декабрь','Январь','Февраль'):\n",
    "    print('Зима')\n",
    "elif ls_month_inp in ('Март','Апрель','Май'):\n",
    "    print('Весна')\n",
    "elif ls_month_inp in ('Июнь','Июль','Август'):\n",
    "    print('Лето')\n",
    "elif ls_month_inp in ('Сентябрь','Октябрь','Ноябрь'):\n",
    "    print('Осень')\n",
    "else:\n",
    "    print('Введён не месяц года!')"
   ]
  },
  {
   "cell_type": "markdown",
   "id": "4fa27af1",
   "metadata": {},
   "source": [
    "Задание 2. Напишите программу, которая рассчитывает сумму скидки. Если сумма покупки больше 1000 руб, предоставляется скидка 10%, если сумма больше 20000 руб, предоставляется скидка 15%. Выведите итоговую сумму покупки и сумму скидки."
   ]
  },
  {
   "cell_type": "code",
   "execution_count": 8,
   "id": "133440c7",
   "metadata": {},
   "outputs": [
    {
     "name": "stdout",
     "output_type": "stream",
     "text": [
      "5600.7\n"
     ]
    }
   ],
   "source": [
    "#вводим цену товара:\n",
    "lf_price = float(input()) #ожидаем ввод с клавиатуры строки и преобразуем её в вещественное число (пользователь вводит десятичное число)"
   ]
  },
  {
   "cell_type": "code",
   "execution_count": 13,
   "id": "93e395cf",
   "metadata": {},
   "outputs": [
    {
     "name": "stdout",
     "output_type": "stream",
     "text": [
      "Сумма покупки:  5040.63\n",
      "Сумма скидки:   560.07\n"
     ]
    }
   ],
   "source": [
    "# определяем размер скидки, в процентах, в зависимости от введённой на предыдущем шаге цены товара:\n",
    "if lf_price > 1000 and lf_price <= 20000: #если изначальная цена больше 1000 р, но меньше, либо равна 20000 р, то скидка = 10%\n",
    "    discount = 10 #процент скидки = 10%\n",
    "elif lf_price > 20000: #если изначальная цена больше 20000 р, то скидка = 15%\n",
    "    discount = 15 #процент скидки = 15%\n",
    "else:\n",
    "    discount = 0 #если изначальная цена меньше, либо равна 1000 р, то скидки нет совсем, т.е. она = 0%\n",
    "lf_end_price = lf_price - lf_price*discount/100 #делим на 100, чтобы перевести из процентов в рубли\n",
    "print('Сумма покупки: ', str(lf_end_price))\n",
    "print('Сумма скидки:  ', str(lf_price*discount/100))"
   ]
  },
  {
   "cell_type": "markdown",
   "id": "c9586b17",
   "metadata": {},
   "source": [
    "Задание 3. Даны три стороны треугольника. Определить каким он является: равносторонним, равнобедренным, разносторонним."
   ]
  },
  {
   "cell_type": "code",
   "execution_count": 14,
   "id": "69a35328",
   "metadata": {},
   "outputs": [
    {
     "name": "stdout",
     "output_type": "stream",
     "text": [
      "15.8\n",
      "13.6\n",
      "14.6\n"
     ]
    }
   ],
   "source": [
    "#вводим с клавиатуры длины всех сторон, преобразуем в десятичный формат:\n",
    "lf_a = float(input())\n",
    "lf_b = float(input())\n",
    "lf_c = float(input())"
   ]
  },
  {
   "cell_type": "code",
   "execution_count": 16,
   "id": "7814f9fc",
   "metadata": {},
   "outputs": [
    {
     "name": "stdout",
     "output_type": "stream",
     "text": [
      "Треугольник разносторонний\n"
     ]
    }
   ],
   "source": [
    "if lf_a == lf_b and lf_b == lf_c:\n",
    "    print('Треугольник равносторонний')\n",
    "elif (lf_a == lf_b and lf_a != lf_c) or (lf_b == lf_c and lf_b != lf_a) or (lf_a == lf_c and lf_a != lf_b):\n",
    "    print('Треугольник равнобедренный')\n",
    "else:\n",
    "    print('Треугольник разносторонний')"
   ]
  },
  {
   "cell_type": "markdown",
   "id": "820a5bc9",
   "metadata": {},
   "source": [
    "Задание 4.\n",
    "\n",
    "Дано натуральное число n (n <=100), определяющее в годах возраст человека. Составить программу, по которой на экран монитора выводится это число с наименованием «год», «года» или «лет»."
   ]
  },
  {
   "cell_type": "code",
   "execution_count": 20,
   "id": "c34b644d",
   "metadata": {},
   "outputs": [
    {
     "name": "stdout",
     "output_type": "stream",
     "text": [
      "4\n"
     ]
    }
   ],
   "source": [
    "li_age = input()"
   ]
  },
  {
   "cell_type": "code",
   "execution_count": 21,
   "id": "37036ad4",
   "metadata": {},
   "outputs": [],
   "source": [
    "strarray = [] #объявляем массив, он будет содержать строковые значения"
   ]
  },
  {
   "cell_type": "code",
   "execution_count": 23,
   "id": "e2278bd8",
   "metadata": {},
   "outputs": [],
   "source": [
    "for a in li_age: #для каждого символа в веденной строке формируем элемент массива\n",
    "    strarray += a"
   ]
  },
  {
   "cell_type": "code",
   "execution_count": 24,
   "id": "a18bed26",
   "metadata": {},
   "outputs": [],
   "source": [
    "intarray = [int(item) for item in strarray] #преобразуем строковый массив strarray в целочисленный массив intarray"
   ]
  },
  {
   "cell_type": "code",
   "execution_count": 25,
   "id": "76b5b309",
   "metadata": {},
   "outputs": [
    {
     "name": "stdout",
     "output_type": "stream",
     "text": [
      "[4]\n"
     ]
    }
   ],
   "source": [
    "print(intarray) #проверка - вывод на экран содержимого массива с целыми числами"
   ]
  },
  {
   "cell_type": "code",
   "execution_count": 26,
   "id": "f2f4121f",
   "metadata": {},
   "outputs": [],
   "source": [
    "li_last_digit = intarray[len(intarray) - 1]#берм последнюю цифру - от неё зависит, как будем называть возраст человека: он будет заканчиваться на \"год\", \"лет\" или \"года\""
   ]
  },
  {
   "cell_type": "code",
   "execution_count": 28,
   "id": "a75e16a3",
   "metadata": {},
   "outputs": [
    {
     "name": "stdout",
     "output_type": "stream",
     "text": [
      "4 года\n"
     ]
    }
   ],
   "source": [
    "if li_last_digit == 1:\n",
    "    print(str(li_age), 'год')\n",
    "elif li_last_digit in (2,3,4):\n",
    "    print(str(li_age), 'года')\n",
    "elif li_last_digit in (5,6,7,8,9,0):\n",
    "    print(str(li_age), 'лет')\n",
    "else:\n",
    "    print('что-то Вы не то ввели, проверьте себя, пожалуйста')"
   ]
  },
  {
   "cell_type": "code",
   "execution_count": null,
   "id": "72a28d0d",
   "metadata": {},
   "outputs": [],
   "source": []
  }
 ],
 "metadata": {
  "kernelspec": {
   "display_name": "Python 3 (ipykernel)",
   "language": "python",
   "name": "python3"
  },
  "language_info": {
   "codemirror_mode": {
    "name": "ipython",
    "version": 3
   },
   "file_extension": ".py",
   "mimetype": "text/x-python",
   "name": "python",
   "nbconvert_exporter": "python",
   "pygments_lexer": "ipython3",
   "version": "3.11.0"
  }
 },
 "nbformat": 4,
 "nbformat_minor": 5
}
